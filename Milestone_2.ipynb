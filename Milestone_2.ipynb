{
  "nbformat": 4,
  "nbformat_minor": 0,
  "metadata": {
    "colab": {
      "provenance": [],
      "authorship_tag": "ABX9TyNp4Hgc0IhnTsFc4nMsCONG",
      "include_colab_link": true
    },
    "kernelspec": {
      "name": "python3",
      "display_name": "Python 3"
    },
    "language_info": {
      "name": "python"
    }
  },
  "cells": [
    {
      "cell_type": "markdown",
      "metadata": {
        "id": "view-in-github",
        "colab_type": "text"
      },
      "source": [
        "<a href=\"https://colab.research.google.com/github/MohHasan1/SEA600--Assignment-1/blob/main/Milestone_2.ipynb\" target=\"_parent\"><img src=\"https://colab.research.google.com/assets/colab-badge.svg\" alt=\"Open In Colab\"/></a>"
      ]
    },
    {
      "cell_type": "code",
      "execution_count": null,
      "metadata": {
        "id": "PXh_XiWZYiQ1"
      },
      "outputs": [],
      "source": [
        "!pip install ucimlrepo"
      ]
    },
    {
      "cell_type": "code",
      "source": [
        "# Import necessary libraries\n",
        "import time\n",
        "import tracemalloc\n",
        "import pandas as pd\n",
        "from ucimlrepo import fetch_ucirepo\n",
        "from sklearn.model_selection import train_test_split\n",
        "from sklearn.ensemble import RandomForestClassifier\n",
        "from sklearn.discriminant_analysis import QuadraticDiscriminantAnalysis\n",
        "from sklearn.discriminant_analysis import LinearDiscriminantAnalysis\n",
        "from sklearn.metrics import accuracy_score, precision_score, recall_score, roc_auc_score, classification_report"
      ],
      "metadata": {
        "id": "ygen_abBZjrj"
      },
      "execution_count": 9,
      "outputs": []
    },
    {
      "cell_type": "code",
      "source": [
        "from ucimlrepo import fetch_ucirepo\n",
        "\n",
        "# fetch dataset #\n",
        "heart_failure_clinical_records = fetch_ucirepo(id=519)\n",
        "\n",
        "# data (as pandas dataframes) #\n",
        "X = heart_failure_clinical_records.data.features\n",
        "y = heart_failure_clinical_records.data.targets"
      ],
      "metadata": {
        "id": "WIBP7YkIZjqw"
      },
      "execution_count": 3,
      "outputs": []
    },
    {
      "cell_type": "code",
      "source": [
        "from sklearn.model_selection import train_test_split\n",
        "\n",
        "# Split into train_val (80%) and test (20%) sets\n",
        "X_train_val, X_test, y_train_val, y_test = train_test_split(X, y, test_size=0.2, random_state=42)\n",
        "\n",
        "# Split train_val (80%) to train (60%) and val (20%) sets\n",
        "X_train, X_val, y_train, y_val = train_test_split(X_train_val, y_train_val, test_size=0.25, random_state=42)\n",
        "\n",
        "# Display shapes to verify the split\n",
        "print(\"Train set shape:\", X_train.shape)\n",
        "print(\"Validation set shape:\", X_val.shape)\n",
        "print(\"Test set shape:\", X_test.shape)"
      ],
      "metadata": {
        "colab": {
          "base_uri": "https://localhost:8080/"
        },
        "id": "QK1D-OrIZjoC",
        "outputId": "193a87f3-28ff-4c62-8688-6cc78cc01895"
      },
      "execution_count": 4,
      "outputs": [
        {
          "output_type": "stream",
          "name": "stdout",
          "text": [
            "Train set shape: (179, 12)\n",
            "Validation set shape: (60, 12)\n",
            "Test set shape: (60, 12)\n"
          ]
        }
      ]
    },
    {
      "cell_type": "code",
      "source": [
        "# ----- Random Forest Classifier (Ensemble classifier) ----- #\n",
        "\n",
        "# Start tracking time and memory\n",
        "tracemalloc.start()\n",
        "start_time = time.time()\n",
        "\n",
        "# Initialize and train Random Forest model\n",
        "model_rf = RandomForestClassifier(n_estimators=100, random_state=42)\n",
        "model_rf.fit(X_train, y_train.values.ravel())\n",
        "\n",
        "training_time_rf = time.time() - start_time\n",
        "current_rf, peak_rf = tracemalloc.get_traced_memory()\n",
        "tracemalloc.stop()\n",
        "\n",
        "# Evaluate Random Forest on the validation set\n",
        "y_pred_rf = model_rf.predict(X_val)\n",
        "\n",
        "acc_rf = accuracy_score(y_val, y_pred_rf)\n",
        "precision_rf = precision_score(y_val, y_pred_rf)\n",
        "recall_rf = recall_score(y_val, y_pred_rf)\n",
        "roc_auc_rf = roc_auc_score(y_val, model_rf.predict_proba(X_val)[:, 1])\n",
        "\n",
        "print(\"_______________________________________________________________________\")\n",
        "print(\"\\n----- Random Forest Classifier on Validation Set -----\")\n",
        "print(f\"Accuracy       : {acc_rf:.4f}\")\n",
        "print(f\"Precision      : {precision_rf:.4f}\")\n",
        "print(f\"Recall         : {recall_rf:.4f}\")\n",
        "print(f\"ROC AUC        : {roc_auc_rf:.4f}\")\n",
        "print(f\"Training time  : {training_time_rf:.4f} seconds\")\n",
        "print(f\"Peak memory    : {peak_rf / 10**6:.4f} MB\")\n",
        "\n",
        "print(\"_______________________________________________________________________\\n\")\n",
        "print(\"Classification Report:\")\n",
        "print(\"_______________________________________________________________________\\n\")\n",
        "print(classification_report(y_val, y_pred_rf))\n",
        "print(\"_______________________________________________________________________\\n\")\n"
      ],
      "metadata": {
        "colab": {
          "base_uri": "https://localhost:8080/"
        },
        "id": "hHR32vjyZjmP",
        "outputId": "ff64ffcf-183c-45d7-f62b-636d9e980008"
      },
      "execution_count": 10,
      "outputs": [
        {
          "output_type": "stream",
          "name": "stdout",
          "text": [
            "_______________________________________________________________________\n",
            "\n",
            "----- Random Forest Classifier on Validation Set -----\n",
            "Accuracy       : 0.8833\n",
            "Precision      : 0.6250\n",
            "Recall         : 0.9091\n",
            "ROC AUC        : 0.9369\n",
            "Training time  : 1.2383 seconds\n",
            "Peak memory    : 0.2681 MB\n",
            "_______________________________________________________________________\n",
            "\n",
            "Classification Report:\n",
            "_______________________________________________________________________\n",
            "\n",
            "              precision    recall  f1-score   support\n",
            "\n",
            "           0       0.98      0.88      0.92        49\n",
            "           1       0.62      0.91      0.74        11\n",
            "\n",
            "    accuracy                           0.88        60\n",
            "   macro avg       0.80      0.89      0.83        60\n",
            "weighted avg       0.91      0.88      0.89        60\n",
            "\n",
            "_______________________________________________________________________\n",
            "\n"
          ]
        }
      ]
    },
    {
      "cell_type": "code",
      "source": [
        "# ----- LDA ----- #\n",
        "\n",
        "# Start tracking time and memory\n",
        "tracemalloc.start()\n",
        "start_time = time.time()\n",
        "\n",
        "# Initialize and train LDA model\n",
        "model_lda = LinearDiscriminantAnalysis()\n",
        "model_lda.fit(X_train, y_train.values.ravel())\n",
        "\n",
        "training_time_lda = time.time() - start_time\n",
        "current_lda, peak_lda = tracemalloc.get_traced_memory()\n",
        "tracemalloc.stop()\n",
        "\n",
        "# Evaluate LDA on the validation set\n",
        "y_pred_lda = model_lda.predict(X_val)\n",
        "\n",
        "acc_lda = accuracy_score(y_val, y_pred_lda)\n",
        "precision_lda = precision_score(y_val, y_pred_lda)\n",
        "recall_lda = recall_score(y_val, y_pred_lda)\n",
        "roc_auc_lda = roc_auc_score(y_val, model_lda.predict_proba(X_val)[:, 1])\n",
        "\n",
        "print(\"_______________________________________________________________________\")\n",
        "print(\"\\n----- Linear Discriminant Analysis (LDA) on Validation Set -----\")\n",
        "print(f\"Accuracy       : {acc_lda:.4f}\")\n",
        "print(f\"Precision      : {precision_lda:.4f}\")\n",
        "print(f\"Recall         : {recall_lda:.4f}\")\n",
        "print(f\"ROC AUC        : {roc_auc_lda:.4f}\")\n",
        "print(f\"Training time  : {training_time_lda:.4f} seconds\")\n",
        "print(f\"Peak memory    : {peak_lda / 10**6:.4f} MB\")\n",
        "\n",
        "print(\"_______________________________________________________________________\\n\")\n",
        "print(\"Classification Report:\")\n",
        "print(\"_______________________________________________________________________\\n\")\n",
        "print(classification_report(y_val, y_pred_lda))\n",
        "print(\"_______________________________________________________________________\\n\")\n"
      ],
      "metadata": {
        "colab": {
          "base_uri": "https://localhost:8080/"
        },
        "id": "haBjXYVTZjlf",
        "outputId": "758d207f-2661-434a-9fca-c408020b623a"
      },
      "execution_count": 11,
      "outputs": [
        {
          "output_type": "stream",
          "name": "stdout",
          "text": [
            "_______________________________________________________________________\n",
            "\n",
            "----- Linear Discriminant Analysis (LDA) on Validation Set -----\n",
            "Accuracy       : 0.8167\n",
            "Precision      : 0.5000\n",
            "Recall         : 0.8182\n",
            "ROC AUC        : 0.9332\n",
            "Training time  : 0.0139 seconds\n",
            "Peak memory    : 0.1104 MB\n",
            "_______________________________________________________________________\n",
            "\n",
            "Classification Report:\n",
            "_______________________________________________________________________\n",
            "\n",
            "              precision    recall  f1-score   support\n",
            "\n",
            "           0       0.95      0.82      0.88        49\n",
            "           1       0.50      0.82      0.62        11\n",
            "\n",
            "    accuracy                           0.82        60\n",
            "   macro avg       0.73      0.82      0.75        60\n",
            "weighted avg       0.87      0.82      0.83        60\n",
            "\n",
            "_______________________________________________________________________\n",
            "\n"
          ]
        }
      ]
    },
    {
      "cell_type": "code",
      "source": [
        "# ----- QDA ----- #\n",
        "\n",
        "# Start tracking time and memory\n",
        "tracemalloc.start()\n",
        "start_time = time.time()\n",
        "\n",
        "# Initialize and train QDA model\n",
        "model_qda = QuadraticDiscriminantAnalysis()\n",
        "model_qda.fit(X_train, y_train.values.ravel())\n",
        "\n",
        "training_time_qda = time.time() - start_time\n",
        "current_qda, peak_qda = tracemalloc.get_traced_memory()\n",
        "tracemalloc.stop()\n",
        "\n",
        "# Evaluate QDA on the validation set\n",
        "y_pred_qda = model_qda.predict(X_val)\n",
        "\n",
        "acc_qda = accuracy_score(y_val, y_pred_qda)\n",
        "precision_qda = precision_score(y_val, y_pred_qda)\n",
        "recall_qda = recall_score(y_val, y_pred_qda)\n",
        "roc_auc_qda = roc_auc_score(y_val, model_qda.predict_proba(X_val)[:, 1])\n",
        "\n",
        "print(\"_______________________________________________________________________\")\n",
        "print(\"\\n----- Quadratic Discriminant Analysis (QDA) on Validation Set -----\")\n",
        "print(f\"Accuracy       : {acc_qda:.4f}\")\n",
        "print(f\"Precision      : {precision_qda:.4f}\")\n",
        "print(f\"Recall         : {recall_qda:.4f}\")\n",
        "print(f\"ROC AUC        : {roc_auc_qda:.4f}\")\n",
        "print(f\"Training time  : {training_time_qda:.4f} seconds\")\n",
        "print(f\"Peak memory    : {peak_qda / 10**6:.4f} MB\")\n",
        "\n",
        "print(\"_______________________________________________________________________\\n\")\n",
        "print(\"Classification Report:\")\n",
        "print(\"_______________________________________________________________________\\n\")\n",
        "print(classification_report(y_val, y_pred_qda))\n",
        "print(\"_______________________________________________________________________\\n\")\n"
      ],
      "metadata": {
        "colab": {
          "base_uri": "https://localhost:8080/"
        },
        "id": "ULjunm85ZjjQ",
        "outputId": "f6ae60c7-83a1-438e-f11c-5a6d2eaaf47b"
      },
      "execution_count": 12,
      "outputs": [
        {
          "output_type": "stream",
          "name": "stdout",
          "text": [
            "_______________________________________________________________________\n",
            "\n",
            "----- Quadratic Discriminant Analysis (QDA) on Validation Set -----\n",
            "Accuracy       : 0.7667\n",
            "Precision      : 0.4000\n",
            "Recall         : 0.5455\n",
            "ROC AUC        : 0.7635\n",
            "Training time  : 0.0294 seconds\n",
            "Peak memory    : 0.0704 MB\n",
            "_______________________________________________________________________\n",
            "\n",
            "Classification Report:\n",
            "_______________________________________________________________________\n",
            "\n",
            "              precision    recall  f1-score   support\n",
            "\n",
            "           0       0.89      0.82      0.85        49\n",
            "           1       0.40      0.55      0.46        11\n",
            "\n",
            "    accuracy                           0.77        60\n",
            "   macro avg       0.64      0.68      0.66        60\n",
            "weighted avg       0.80      0.77      0.78        60\n",
            "\n",
            "_______________________________________________________________________\n",
            "\n"
          ]
        }
      ]
    },
    {
      "cell_type": "code",
      "source": [],
      "metadata": {
        "id": "SwQbpb8dZjgp"
      },
      "execution_count": null,
      "outputs": []
    },
    {
      "cell_type": "code",
      "source": [],
      "metadata": {
        "id": "7ZwDLrBkZjeK"
      },
      "execution_count": null,
      "outputs": []
    },
    {
      "cell_type": "code",
      "source": [],
      "metadata": {
        "id": "YLyf-wNvZjbo"
      },
      "execution_count": null,
      "outputs": []
    },
    {
      "cell_type": "code",
      "source": [],
      "metadata": {
        "id": "JAV4HrL-ZjTw"
      },
      "execution_count": null,
      "outputs": []
    }
  ]
}